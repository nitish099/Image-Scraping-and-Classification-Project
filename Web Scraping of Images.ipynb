{
 "cells": [
  {
   "cell_type": "markdown",
   "metadata": {},
   "source": [
    "# Web-Scraping of Images from E-Commerce website (Amazon)"
   ]
  },
  {
   "cell_type": "code",
   "execution_count": 1,
   "metadata": {},
   "outputs": [],
   "source": [
    "#importing the required libraries\n",
    "import pandas as pd\n",
    "from selenium import webdriver\n",
    "import time\n",
    "import os"
   ]
  },
  {
   "cell_type": "code",
   "execution_count": 2,
   "metadata": {},
   "outputs": [],
   "source": [
    "# connecting to webdriver\n",
    "driver = webdriver.Chrome(r\"C:\\Users\\Nitish\\Downloads\\Compressed\\chromedriver.exe\")\n",
    "time.sleep(2)"
   ]
  },
  {
   "cell_type": "code",
   "execution_count": 3,
   "metadata": {},
   "outputs": [],
   "source": [
    "url=\"https://www.amazon.in/s?k=sarees&ref=nb_sb_noss_2\""
   ]
  },
  {
   "cell_type": "code",
   "execution_count": 4,
   "metadata": {},
   "outputs": [],
   "source": [
    "# send get request to the webpage server to get the source code of the page\n",
    "driver.get(url)\n",
    "time.sleep(4)"
   ]
  },
  {
   "cell_type": "code",
   "execution_count": 5,
   "metadata": {},
   "outputs": [],
   "source": [
    "# Maximize current window\n",
    "driver.maximize_window()"
   ]
  },
  {
   "cell_type": "code",
   "execution_count": 6,
   "metadata": {},
   "outputs": [],
   "source": [
    "# directory to store images of Sarees\n",
    "def make_directory(dirname):\n",
    "    current_path= os.getcwd()\n",
    "    path=os.path.join(current_path,dirname)\n",
    "    if not os.path.exists(path):\n",
    "        os.makedirs(path)"
   ]
  },
  {
   "cell_type": "code",
   "execution_count": 7,
   "metadata": {},
   "outputs": [],
   "source": [
    "make_directory('Sarees (women)')"
   ]
  },
  {
   "cell_type": "markdown",
   "metadata": {},
   "source": [
    "### Scraping URLs of Images"
   ]
  },
  {
   "cell_type": "code",
   "execution_count": 8,
   "metadata": {},
   "outputs": [],
   "source": [
    "images=driver.find_elements_by_xpath(\"//div/img[@class='s-image']\")\n",
    "time.sleep(2)"
   ]
  },
  {
   "cell_type": "code",
   "execution_count": 9,
   "metadata": {},
   "outputs": [
    {
     "data": {
      "text/plain": [
       "71"
      ]
     },
     "execution_count": 9,
     "metadata": {},
     "output_type": "execute_result"
    }
   ],
   "source": [
    "len(images)"
   ]
  },
  {
   "cell_type": "code",
   "execution_count": 10,
   "metadata": {},
   "outputs": [
    {
     "data": {
      "text/plain": [
       "<selenium.webdriver.remote.webelement.WebElement (session=\"ee8661f251d6fa1f6c71f368425ce939\", element=\"68364479-0079-4849-9a80-b40be0cff327\")>"
      ]
     },
     "execution_count": 10,
     "metadata": {},
     "output_type": "execute_result"
    }
   ],
   "source": [
    "images[0]"
   ]
  },
  {
   "cell_type": "code",
   "execution_count": 11,
   "metadata": {},
   "outputs": [],
   "source": [
    "urls= []\n",
    "for image in images:\n",
    "    source= image.get_attribute('src')\n",
    "    urls.append(source)"
   ]
  },
  {
   "cell_type": "code",
   "execution_count": 12,
   "metadata": {},
   "outputs": [
    {
     "data": {
      "text/plain": [
       "71"
      ]
     },
     "execution_count": 12,
     "metadata": {},
     "output_type": "execute_result"
    }
   ],
   "source": [
    "len(urls)"
   ]
  },
  {
   "cell_type": "markdown",
   "metadata": {},
   "source": [
    "### Using the urls to download images of Sarees (women)"
   ]
  },
  {
   "cell_type": "code",
   "execution_count": 13,
   "metadata": {},
   "outputs": [],
   "source": [
    "import shutil\n",
    "import requests"
   ]
  },
  {
   "cell_type": "code",
   "execution_count": 14,
   "metadata": {},
   "outputs": [
    {
     "name": "stdout",
     "output_type": "stream",
     "text": [
      "Downloading 1 of 71 images from page 1\n",
      "Downloading 2 of 71 images from page 1\n",
      "Downloading 3 of 71 images from page 1\n",
      "Downloading 4 of 71 images from page 1\n",
      "Downloading 5 of 71 images from page 1\n",
      "Downloading 6 of 71 images from page 1\n",
      "Downloading 7 of 71 images from page 1\n",
      "Downloading 8 of 71 images from page 1\n",
      "Downloading 9 of 71 images from page 1\n",
      "Downloading 10 of 71 images from page 1\n",
      "Downloading 11 of 71 images from page 1\n",
      "Downloading 12 of 71 images from page 1\n",
      "Downloading 13 of 71 images from page 1\n",
      "Downloading 14 of 71 images from page 1\n",
      "Downloading 15 of 71 images from page 1\n",
      "Downloading 16 of 71 images from page 1\n",
      "Downloading 17 of 71 images from page 1\n",
      "Downloading 18 of 71 images from page 1\n",
      "Downloading 19 of 71 images from page 1\n",
      "Downloading 20 of 71 images from page 1\n",
      "Downloading 21 of 71 images from page 1\n",
      "Downloading 22 of 71 images from page 1\n",
      "Downloading 23 of 71 images from page 1\n",
      "Downloading 24 of 71 images from page 1\n",
      "Downloading 25 of 71 images from page 1\n",
      "Downloading 26 of 71 images from page 1\n",
      "Downloading 27 of 71 images from page 1\n",
      "Downloading 28 of 71 images from page 1\n",
      "Downloading 29 of 71 images from page 1\n",
      "Downloading 30 of 71 images from page 1\n",
      "Downloading 31 of 71 images from page 1\n",
      "Downloading 32 of 71 images from page 1\n",
      "Downloading 33 of 71 images from page 1\n",
      "Downloading 34 of 71 images from page 1\n",
      "Downloading 35 of 71 images from page 1\n",
      "Downloading 36 of 71 images from page 1\n",
      "Downloading 37 of 71 images from page 1\n",
      "Downloading 38 of 71 images from page 1\n",
      "Downloading 39 of 71 images from page 1\n",
      "Downloading 40 of 71 images from page 1\n",
      "Downloading 41 of 71 images from page 1\n",
      "Downloading 42 of 71 images from page 1\n",
      "Downloading 43 of 71 images from page 1\n",
      "Downloading 44 of 71 images from page 1\n",
      "Downloading 45 of 71 images from page 1\n",
      "Downloading 46 of 71 images from page 1\n",
      "Downloading 47 of 71 images from page 1\n",
      "Downloading 48 of 71 images from page 1\n",
      "Downloading 49 of 71 images from page 1\n",
      "Downloading 50 of 71 images from page 1\n",
      "Downloading 51 of 71 images from page 1\n",
      "Downloading 52 of 71 images from page 1\n",
      "Downloading 53 of 71 images from page 1\n",
      "Downloading 54 of 71 images from page 1\n",
      "Downloading 55 of 71 images from page 1\n",
      "Downloading 56 of 71 images from page 1\n",
      "Downloading 57 of 71 images from page 1\n",
      "Downloading 58 of 71 images from page 1\n",
      "Downloading 59 of 71 images from page 1\n",
      "Downloading 60 of 71 images from page 1\n",
      "Downloading 61 of 71 images from page 1\n",
      "Downloading 62 of 71 images from page 1\n",
      "Downloading 63 of 71 images from page 1\n",
      "Downloading 64 of 71 images from page 1\n",
      "Downloading 65 of 71 images from page 1\n",
      "Downloading 66 of 71 images from page 1\n",
      "Downloading 67 of 71 images from page 1\n",
      "Downloading 68 of 71 images from page 1\n",
      "Downloading 69 of 71 images from page 1\n",
      "Downloading 70 of 71 images from page 1\n",
      "Downloading 71 of 71 images from page 1\n"
     ]
    }
   ],
   "source": [
    "page=1\n",
    "for index, link in enumerate(urls):\n",
    "    print('Downloading {0} of {1} images from page 1'.format(index+1,len(urls)))\n",
    "    response=requests.get(link)\n",
    "    with open('Sarees (women)/img_{0}{1}.jpeg'.format(index,page),'wb') as file:\n",
    "        file.write(response.content)"
   ]
  },
  {
   "cell_type": "code",
   "execution_count": 15,
   "metadata": {},
   "outputs": [],
   "source": [
    "# moving to next page\n",
    "next_page=driver.find_element_by_xpath('//li[@class=\"a-last\"]//a').click()\n",
    "time.sleep(4)"
   ]
  },
  {
   "cell_type": "code",
   "execution_count": 16,
   "metadata": {},
   "outputs": [],
   "source": [
    "images = driver.find_elements_by_xpath(\"//div/img[@class='s-image']\")"
   ]
  },
  {
   "cell_type": "code",
   "execution_count": 17,
   "metadata": {},
   "outputs": [
    {
     "data": {
      "text/plain": [
       "51"
      ]
     },
     "execution_count": 17,
     "metadata": {},
     "output_type": "execute_result"
    }
   ],
   "source": [
    "len(images)"
   ]
  },
  {
   "cell_type": "code",
   "execution_count": 18,
   "metadata": {},
   "outputs": [],
   "source": [
    "urls= []\n",
    "for image in images:\n",
    "    source= image.get_attribute('src')\n",
    "    urls.append(source)"
   ]
  },
  {
   "cell_type": "code",
   "execution_count": 19,
   "metadata": {},
   "outputs": [
    {
     "name": "stdout",
     "output_type": "stream",
     "text": [
      "Downloading 1 of 51 images from page 2\n",
      "Downloading 2 of 51 images from page 2\n",
      "Downloading 3 of 51 images from page 2\n",
      "Downloading 4 of 51 images from page 2\n",
      "Downloading 5 of 51 images from page 2\n",
      "Downloading 6 of 51 images from page 2\n",
      "Downloading 7 of 51 images from page 2\n",
      "Downloading 8 of 51 images from page 2\n",
      "Downloading 9 of 51 images from page 2\n",
      "Downloading 10 of 51 images from page 2\n",
      "Downloading 11 of 51 images from page 2\n",
      "Downloading 12 of 51 images from page 2\n",
      "Downloading 13 of 51 images from page 2\n",
      "Downloading 14 of 51 images from page 2\n",
      "Downloading 15 of 51 images from page 2\n",
      "Downloading 16 of 51 images from page 2\n",
      "Downloading 17 of 51 images from page 2\n",
      "Downloading 18 of 51 images from page 2\n",
      "Downloading 19 of 51 images from page 2\n",
      "Downloading 20 of 51 images from page 2\n",
      "Downloading 21 of 51 images from page 2\n",
      "Downloading 22 of 51 images from page 2\n",
      "Downloading 23 of 51 images from page 2\n",
      "Downloading 24 of 51 images from page 2\n",
      "Downloading 25 of 51 images from page 2\n",
      "Downloading 26 of 51 images from page 2\n",
      "Downloading 27 of 51 images from page 2\n",
      "Downloading 28 of 51 images from page 2\n",
      "Downloading 29 of 51 images from page 2\n",
      "Downloading 30 of 51 images from page 2\n",
      "Downloading 31 of 51 images from page 2\n",
      "Downloading 32 of 51 images from page 2\n",
      "Downloading 33 of 51 images from page 2\n",
      "Downloading 34 of 51 images from page 2\n",
      "Downloading 35 of 51 images from page 2\n",
      "Downloading 36 of 51 images from page 2\n",
      "Downloading 37 of 51 images from page 2\n",
      "Downloading 38 of 51 images from page 2\n",
      "Downloading 39 of 51 images from page 2\n",
      "Downloading 40 of 51 images from page 2\n",
      "Downloading 41 of 51 images from page 2\n",
      "Downloading 42 of 51 images from page 2\n",
      "Downloading 43 of 51 images from page 2\n",
      "Downloading 44 of 51 images from page 2\n",
      "Downloading 45 of 51 images from page 2\n",
      "Downloading 46 of 51 images from page 2\n",
      "Downloading 47 of 51 images from page 2\n",
      "Downloading 48 of 51 images from page 2\n",
      "Downloading 49 of 51 images from page 2\n",
      "Downloading 50 of 51 images from page 2\n",
      "Downloading 51 of 51 images from page 2\n"
     ]
    }
   ],
   "source": [
    "page=2\n",
    "for index, link in enumerate(urls):\n",
    "    print('Downloading {0} of {1} images from page 2'.format(index+1,len(urls)))\n",
    "    response=requests.get(link)\n",
    "    with open('Sarees (women)/img_{0}{1}.jpeg'.format(index,page),'wb') as file:\n",
    "        file.write(response.content)"
   ]
  },
  {
   "cell_type": "code",
   "execution_count": 20,
   "metadata": {},
   "outputs": [],
   "source": [
    "# moving to next page\n",
    "next_page=driver.find_element_by_xpath('//li[@class=\"a-last\"]//a').click()\n",
    "time.sleep(4)"
   ]
  },
  {
   "cell_type": "code",
   "execution_count": 21,
   "metadata": {},
   "outputs": [],
   "source": [
    "images = driver.find_elements_by_xpath(\"//div/img[@class='s-image']\")"
   ]
  },
  {
   "cell_type": "code",
   "execution_count": 22,
   "metadata": {},
   "outputs": [
    {
     "data": {
      "text/plain": [
       "51"
      ]
     },
     "execution_count": 22,
     "metadata": {},
     "output_type": "execute_result"
    }
   ],
   "source": [
    "len(images)"
   ]
  },
  {
   "cell_type": "code",
   "execution_count": 23,
   "metadata": {},
   "outputs": [],
   "source": [
    "urls= []\n",
    "for image in images:\n",
    "    source= image.get_attribute('src')\n",
    "    urls.append(source)"
   ]
  },
  {
   "cell_type": "code",
   "execution_count": 24,
   "metadata": {},
   "outputs": [
    {
     "name": "stdout",
     "output_type": "stream",
     "text": [
      "Downloading 1 of 51 images from page 3\n",
      "Downloading 2 of 51 images from page 3\n",
      "Downloading 3 of 51 images from page 3\n",
      "Downloading 4 of 51 images from page 3\n",
      "Downloading 5 of 51 images from page 3\n",
      "Downloading 6 of 51 images from page 3\n",
      "Downloading 7 of 51 images from page 3\n",
      "Downloading 8 of 51 images from page 3\n",
      "Downloading 9 of 51 images from page 3\n",
      "Downloading 10 of 51 images from page 3\n",
      "Downloading 11 of 51 images from page 3\n",
      "Downloading 12 of 51 images from page 3\n",
      "Downloading 13 of 51 images from page 3\n",
      "Downloading 14 of 51 images from page 3\n",
      "Downloading 15 of 51 images from page 3\n",
      "Downloading 16 of 51 images from page 3\n",
      "Downloading 17 of 51 images from page 3\n",
      "Downloading 18 of 51 images from page 3\n",
      "Downloading 19 of 51 images from page 3\n",
      "Downloading 20 of 51 images from page 3\n",
      "Downloading 21 of 51 images from page 3\n",
      "Downloading 22 of 51 images from page 3\n",
      "Downloading 23 of 51 images from page 3\n",
      "Downloading 24 of 51 images from page 3\n",
      "Downloading 25 of 51 images from page 3\n",
      "Downloading 26 of 51 images from page 3\n",
      "Downloading 27 of 51 images from page 3\n",
      "Downloading 28 of 51 images from page 3\n",
      "Downloading 29 of 51 images from page 3\n",
      "Downloading 30 of 51 images from page 3\n",
      "Downloading 31 of 51 images from page 3\n",
      "Downloading 32 of 51 images from page 3\n",
      "Downloading 33 of 51 images from page 3\n",
      "Downloading 34 of 51 images from page 3\n",
      "Downloading 35 of 51 images from page 3\n",
      "Downloading 36 of 51 images from page 3\n",
      "Downloading 37 of 51 images from page 3\n",
      "Downloading 38 of 51 images from page 3\n",
      "Downloading 39 of 51 images from page 3\n",
      "Downloading 40 of 51 images from page 3\n",
      "Downloading 41 of 51 images from page 3\n",
      "Downloading 42 of 51 images from page 3\n",
      "Downloading 43 of 51 images from page 3\n",
      "Downloading 44 of 51 images from page 3\n",
      "Downloading 45 of 51 images from page 3\n",
      "Downloading 46 of 51 images from page 3\n",
      "Downloading 47 of 51 images from page 3\n",
      "Downloading 48 of 51 images from page 3\n",
      "Downloading 49 of 51 images from page 3\n",
      "Downloading 50 of 51 images from page 3\n",
      "Downloading 51 of 51 images from page 3\n"
     ]
    }
   ],
   "source": [
    "page=3\n",
    "for index, link in enumerate(urls):\n",
    "    print('Downloading {0} of {1} images from page 3'.format(index+1,len(urls)))\n",
    "    response=requests.get(link)\n",
    "    with open('Sarees (women)/img_{0}{1}.jpeg'.format(index,page),'wb') as file:\n",
    "        file.write(response.content)"
   ]
  },
  {
   "cell_type": "code",
   "execution_count": 25,
   "metadata": {},
   "outputs": [],
   "source": [
    "# moving to next page\n",
    "next_page=driver.find_element_by_xpath('//li[@class=\"a-last\"]//a').click()\n",
    "time.sleep(4)"
   ]
  },
  {
   "cell_type": "code",
   "execution_count": 26,
   "metadata": {},
   "outputs": [],
   "source": [
    "images = driver.find_elements_by_xpath(\"//div/img[@class='s-image']\")"
   ]
  },
  {
   "cell_type": "code",
   "execution_count": 27,
   "metadata": {},
   "outputs": [
    {
     "data": {
      "text/plain": [
       "51"
      ]
     },
     "execution_count": 27,
     "metadata": {},
     "output_type": "execute_result"
    }
   ],
   "source": [
    "len(images)"
   ]
  },
  {
   "cell_type": "code",
   "execution_count": 28,
   "metadata": {},
   "outputs": [],
   "source": [
    "urls= []\n",
    "for image in images:\n",
    "    source= image.get_attribute('src')\n",
    "    urls.append(source)"
   ]
  },
  {
   "cell_type": "code",
   "execution_count": 29,
   "metadata": {},
   "outputs": [
    {
     "name": "stdout",
     "output_type": "stream",
     "text": [
      "Downloading 1 of 51 images from page 4\n",
      "Downloading 2 of 51 images from page 4\n",
      "Downloading 3 of 51 images from page 4\n",
      "Downloading 4 of 51 images from page 4\n",
      "Downloading 5 of 51 images from page 4\n",
      "Downloading 6 of 51 images from page 4\n",
      "Downloading 7 of 51 images from page 4\n",
      "Downloading 8 of 51 images from page 4\n",
      "Downloading 9 of 51 images from page 4\n",
      "Downloading 10 of 51 images from page 4\n",
      "Downloading 11 of 51 images from page 4\n",
      "Downloading 12 of 51 images from page 4\n",
      "Downloading 13 of 51 images from page 4\n",
      "Downloading 14 of 51 images from page 4\n",
      "Downloading 15 of 51 images from page 4\n",
      "Downloading 16 of 51 images from page 4\n",
      "Downloading 17 of 51 images from page 4\n",
      "Downloading 18 of 51 images from page 4\n",
      "Downloading 19 of 51 images from page 4\n",
      "Downloading 20 of 51 images from page 4\n",
      "Downloading 21 of 51 images from page 4\n",
      "Downloading 22 of 51 images from page 4\n",
      "Downloading 23 of 51 images from page 4\n",
      "Downloading 24 of 51 images from page 4\n",
      "Downloading 25 of 51 images from page 4\n",
      "Downloading 26 of 51 images from page 4\n",
      "Downloading 27 of 51 images from page 4\n",
      "Downloading 28 of 51 images from page 4\n",
      "Downloading 29 of 51 images from page 4\n",
      "Downloading 30 of 51 images from page 4\n",
      "Downloading 31 of 51 images from page 4\n",
      "Downloading 32 of 51 images from page 4\n",
      "Downloading 33 of 51 images from page 4\n",
      "Downloading 34 of 51 images from page 4\n",
      "Downloading 35 of 51 images from page 4\n",
      "Downloading 36 of 51 images from page 4\n",
      "Downloading 37 of 51 images from page 4\n",
      "Downloading 38 of 51 images from page 4\n",
      "Downloading 39 of 51 images from page 4\n",
      "Downloading 40 of 51 images from page 4\n",
      "Downloading 41 of 51 images from page 4\n",
      "Downloading 42 of 51 images from page 4\n",
      "Downloading 43 of 51 images from page 4\n",
      "Downloading 44 of 51 images from page 4\n",
      "Downloading 45 of 51 images from page 4\n",
      "Downloading 46 of 51 images from page 4\n",
      "Downloading 47 of 51 images from page 4\n",
      "Downloading 48 of 51 images from page 4\n",
      "Downloading 49 of 51 images from page 4\n",
      "Downloading 50 of 51 images from page 4\n",
      "Downloading 51 of 51 images from page 4\n"
     ]
    }
   ],
   "source": [
    "page=4\n",
    "for index, link in enumerate(urls):\n",
    "    print('Downloading {0} of {1} images from page 4'.format(index+1,len(urls)))\n",
    "    response=requests.get(link)\n",
    "    with open('Sarees (women)/img_{0}{1}.jpeg'.format(index,page),'wb') as file:\n",
    "        file.write(response.content)"
   ]
  },
  {
   "cell_type": "code",
   "execution_count": null,
   "metadata": {},
   "outputs": [],
   "source": []
  },
  {
   "cell_type": "markdown",
   "metadata": {},
   "source": [
    "## To scrape images of Men Trousers"
   ]
  },
  {
   "cell_type": "code",
   "execution_count": 30,
   "metadata": {},
   "outputs": [],
   "source": [
    "# send get request to the webpage server to get the source code of the page\n",
    "url= driver.get('https://www.amazon.in/s?k=trousers+for+men&crid=1VNLXXQU9HHQK&sprefix=trouser%2Caps%2C337&ref=nb_sb_ss_ts-doa-p_1_7')\n",
    "time.sleep(4)"
   ]
  },
  {
   "cell_type": "code",
   "execution_count": 31,
   "metadata": {},
   "outputs": [],
   "source": [
    "# directory to store images of Trousers (men)\n",
    "def make_directory(dirname):\n",
    "    current_path=os.getcwd()\n",
    "    path=os.path.join(current_path,dirname)\n",
    "    if not os.path.exists(path):\n",
    "        os.makedirs(path)"
   ]
  },
  {
   "cell_type": "code",
   "execution_count": 32,
   "metadata": {},
   "outputs": [],
   "source": [
    "make_directory('Trousers (men)')"
   ]
  },
  {
   "cell_type": "code",
   "execution_count": 33,
   "metadata": {},
   "outputs": [],
   "source": [
    "images = driver.find_elements_by_xpath(\"//img[@class='s-image']\")"
   ]
  },
  {
   "cell_type": "code",
   "execution_count": 34,
   "metadata": {},
   "outputs": [
    {
     "data": {
      "text/plain": [
       "68"
      ]
     },
     "execution_count": 34,
     "metadata": {},
     "output_type": "execute_result"
    }
   ],
   "source": [
    "len(images)"
   ]
  },
  {
   "cell_type": "code",
   "execution_count": 35,
   "metadata": {},
   "outputs": [],
   "source": [
    "urls=[]\n",
    "for image in images:\n",
    "    source=image.get_attribute('src')\n",
    "    urls.append(source)"
   ]
  },
  {
   "cell_type": "code",
   "execution_count": 36,
   "metadata": {},
   "outputs": [
    {
     "data": {
      "text/plain": [
       "68"
      ]
     },
     "execution_count": 36,
     "metadata": {},
     "output_type": "execute_result"
    }
   ],
   "source": [
    "len(urls)"
   ]
  },
  {
   "cell_type": "code",
   "execution_count": 37,
   "metadata": {},
   "outputs": [
    {
     "name": "stdout",
     "output_type": "stream",
     "text": [
      "Downloading 1 of 68 images from page 1\n",
      "Downloading 2 of 68 images from page 1\n",
      "Downloading 3 of 68 images from page 1\n",
      "Downloading 4 of 68 images from page 1\n",
      "Downloading 5 of 68 images from page 1\n",
      "Downloading 6 of 68 images from page 1\n",
      "Downloading 7 of 68 images from page 1\n",
      "Downloading 8 of 68 images from page 1\n",
      "Downloading 9 of 68 images from page 1\n",
      "Downloading 10 of 68 images from page 1\n",
      "Downloading 11 of 68 images from page 1\n",
      "Downloading 12 of 68 images from page 1\n",
      "Downloading 13 of 68 images from page 1\n",
      "Downloading 14 of 68 images from page 1\n",
      "Downloading 15 of 68 images from page 1\n",
      "Downloading 16 of 68 images from page 1\n",
      "Downloading 17 of 68 images from page 1\n",
      "Downloading 18 of 68 images from page 1\n",
      "Downloading 19 of 68 images from page 1\n",
      "Downloading 20 of 68 images from page 1\n",
      "Downloading 21 of 68 images from page 1\n",
      "Downloading 22 of 68 images from page 1\n",
      "Downloading 23 of 68 images from page 1\n",
      "Downloading 24 of 68 images from page 1\n",
      "Downloading 25 of 68 images from page 1\n",
      "Downloading 26 of 68 images from page 1\n",
      "Downloading 27 of 68 images from page 1\n",
      "Downloading 28 of 68 images from page 1\n",
      "Downloading 29 of 68 images from page 1\n",
      "Downloading 30 of 68 images from page 1\n",
      "Downloading 31 of 68 images from page 1\n",
      "Downloading 32 of 68 images from page 1\n",
      "Downloading 33 of 68 images from page 1\n",
      "Downloading 34 of 68 images from page 1\n",
      "Downloading 35 of 68 images from page 1\n",
      "Downloading 36 of 68 images from page 1\n",
      "Downloading 37 of 68 images from page 1\n",
      "Downloading 38 of 68 images from page 1\n",
      "Downloading 39 of 68 images from page 1\n",
      "Downloading 40 of 68 images from page 1\n",
      "Downloading 41 of 68 images from page 1\n",
      "Downloading 42 of 68 images from page 1\n",
      "Downloading 43 of 68 images from page 1\n",
      "Downloading 44 of 68 images from page 1\n",
      "Downloading 45 of 68 images from page 1\n",
      "Downloading 46 of 68 images from page 1\n",
      "Downloading 47 of 68 images from page 1\n",
      "Downloading 48 of 68 images from page 1\n",
      "Downloading 49 of 68 images from page 1\n",
      "Downloading 50 of 68 images from page 1\n",
      "Downloading 51 of 68 images from page 1\n",
      "Downloading 52 of 68 images from page 1\n",
      "Downloading 53 of 68 images from page 1\n",
      "Downloading 54 of 68 images from page 1\n",
      "Downloading 55 of 68 images from page 1\n",
      "Downloading 56 of 68 images from page 1\n",
      "Downloading 57 of 68 images from page 1\n",
      "Downloading 58 of 68 images from page 1\n",
      "Downloading 59 of 68 images from page 1\n",
      "Downloading 60 of 68 images from page 1\n",
      "Downloading 61 of 68 images from page 1\n",
      "Downloading 62 of 68 images from page 1\n",
      "Downloading 63 of 68 images from page 1\n",
      "Downloading 64 of 68 images from page 1\n",
      "Downloading 65 of 68 images from page 1\n",
      "Downloading 66 of 68 images from page 1\n",
      "Downloading 67 of 68 images from page 1\n",
      "Downloading 68 of 68 images from page 1\n"
     ]
    }
   ],
   "source": [
    "page=1\n",
    "for index, link in enumerate(urls):\n",
    "    print('Downloading {0} of {1} images from page 1'.format(index+1,len(urls)))\n",
    "    response=requests.get(link)\n",
    "    with open('Trousers (men)/img_{0}{1}.jpeg'.format(index,page),'wb') as file:\n",
    "        file.write(response.content)"
   ]
  },
  {
   "cell_type": "code",
   "execution_count": 38,
   "metadata": {},
   "outputs": [],
   "source": [
    "# moving to next page\n",
    "next_page=driver.find_element_by_xpath('//li[@class=\"a-last\"]//a').click()\n",
    "time.sleep(4)"
   ]
  },
  {
   "cell_type": "code",
   "execution_count": 39,
   "metadata": {},
   "outputs": [],
   "source": [
    "images = driver.find_elements_by_xpath(\"//div/img[@class='s-image']\")"
   ]
  },
  {
   "cell_type": "code",
   "execution_count": 40,
   "metadata": {},
   "outputs": [
    {
     "data": {
      "text/plain": [
       "60"
      ]
     },
     "execution_count": 40,
     "metadata": {},
     "output_type": "execute_result"
    }
   ],
   "source": [
    "len(images)"
   ]
  },
  {
   "cell_type": "code",
   "execution_count": 41,
   "metadata": {},
   "outputs": [],
   "source": [
    "urls= []\n",
    "for image in images:\n",
    "    source= image.get_attribute('src')\n",
    "    urls.append(source)"
   ]
  },
  {
   "cell_type": "code",
   "execution_count": 42,
   "metadata": {},
   "outputs": [
    {
     "name": "stdout",
     "output_type": "stream",
     "text": [
      "Downloading 1 of 60 images from page 2\n",
      "Downloading 2 of 60 images from page 2\n",
      "Downloading 3 of 60 images from page 2\n",
      "Downloading 4 of 60 images from page 2\n",
      "Downloading 5 of 60 images from page 2\n",
      "Downloading 6 of 60 images from page 2\n",
      "Downloading 7 of 60 images from page 2\n",
      "Downloading 8 of 60 images from page 2\n",
      "Downloading 9 of 60 images from page 2\n",
      "Downloading 10 of 60 images from page 2\n",
      "Downloading 11 of 60 images from page 2\n",
      "Downloading 12 of 60 images from page 2\n",
      "Downloading 13 of 60 images from page 2\n",
      "Downloading 14 of 60 images from page 2\n",
      "Downloading 15 of 60 images from page 2\n",
      "Downloading 16 of 60 images from page 2\n",
      "Downloading 17 of 60 images from page 2\n",
      "Downloading 18 of 60 images from page 2\n",
      "Downloading 19 of 60 images from page 2\n",
      "Downloading 20 of 60 images from page 2\n",
      "Downloading 21 of 60 images from page 2\n",
      "Downloading 22 of 60 images from page 2\n",
      "Downloading 23 of 60 images from page 2\n",
      "Downloading 24 of 60 images from page 2\n",
      "Downloading 25 of 60 images from page 2\n",
      "Downloading 26 of 60 images from page 2\n",
      "Downloading 27 of 60 images from page 2\n",
      "Downloading 28 of 60 images from page 2\n",
      "Downloading 29 of 60 images from page 2\n",
      "Downloading 30 of 60 images from page 2\n",
      "Downloading 31 of 60 images from page 2\n",
      "Downloading 32 of 60 images from page 2\n",
      "Downloading 33 of 60 images from page 2\n",
      "Downloading 34 of 60 images from page 2\n",
      "Downloading 35 of 60 images from page 2\n",
      "Downloading 36 of 60 images from page 2\n",
      "Downloading 37 of 60 images from page 2\n",
      "Downloading 38 of 60 images from page 2\n",
      "Downloading 39 of 60 images from page 2\n",
      "Downloading 40 of 60 images from page 2\n",
      "Downloading 41 of 60 images from page 2\n",
      "Downloading 42 of 60 images from page 2\n",
      "Downloading 43 of 60 images from page 2\n",
      "Downloading 44 of 60 images from page 2\n",
      "Downloading 45 of 60 images from page 2\n",
      "Downloading 46 of 60 images from page 2\n",
      "Downloading 47 of 60 images from page 2\n",
      "Downloading 48 of 60 images from page 2\n",
      "Downloading 49 of 60 images from page 2\n",
      "Downloading 50 of 60 images from page 2\n",
      "Downloading 51 of 60 images from page 2\n",
      "Downloading 52 of 60 images from page 2\n",
      "Downloading 53 of 60 images from page 2\n",
      "Downloading 54 of 60 images from page 2\n",
      "Downloading 55 of 60 images from page 2\n",
      "Downloading 56 of 60 images from page 2\n",
      "Downloading 57 of 60 images from page 2\n",
      "Downloading 58 of 60 images from page 2\n",
      "Downloading 59 of 60 images from page 2\n",
      "Downloading 60 of 60 images from page 2\n"
     ]
    }
   ],
   "source": [
    "page=2\n",
    "for index, link in enumerate(urls):\n",
    "    print('Downloading {0} of {1} images from page 2'.format(index+1,len(urls)))\n",
    "    response=requests.get(link)\n",
    "    with open('Trousers (men)/img_{0}{1}.jpeg'.format(index,page),'wb') as file:\n",
    "        file.write(response.content)"
   ]
  },
  {
   "cell_type": "code",
   "execution_count": 43,
   "metadata": {},
   "outputs": [],
   "source": [
    "# moving to next page\n",
    "next_page=driver.find_element_by_xpath('//li[@class=\"a-last\"]//a').click()\n",
    "time.sleep(4)"
   ]
  },
  {
   "cell_type": "code",
   "execution_count": 44,
   "metadata": {},
   "outputs": [],
   "source": [
    "images = driver.find_elements_by_xpath(\"//div/img[@class='s-image']\")"
   ]
  },
  {
   "cell_type": "code",
   "execution_count": 45,
   "metadata": {},
   "outputs": [],
   "source": [
    "urls= []\n",
    "for image in images:\n",
    "    source= image.get_attribute('src')\n",
    "    urls.append(source)"
   ]
  },
  {
   "cell_type": "code",
   "execution_count": 46,
   "metadata": {},
   "outputs": [
    {
     "name": "stdout",
     "output_type": "stream",
     "text": [
      "Downloading 1 of 60 images from page 3\n",
      "Downloading 2 of 60 images from page 3\n",
      "Downloading 3 of 60 images from page 3\n",
      "Downloading 4 of 60 images from page 3\n",
      "Downloading 5 of 60 images from page 3\n",
      "Downloading 6 of 60 images from page 3\n",
      "Downloading 7 of 60 images from page 3\n",
      "Downloading 8 of 60 images from page 3\n",
      "Downloading 9 of 60 images from page 3\n",
      "Downloading 10 of 60 images from page 3\n",
      "Downloading 11 of 60 images from page 3\n",
      "Downloading 12 of 60 images from page 3\n",
      "Downloading 13 of 60 images from page 3\n",
      "Downloading 14 of 60 images from page 3\n",
      "Downloading 15 of 60 images from page 3\n",
      "Downloading 16 of 60 images from page 3\n",
      "Downloading 17 of 60 images from page 3\n",
      "Downloading 18 of 60 images from page 3\n",
      "Downloading 19 of 60 images from page 3\n",
      "Downloading 20 of 60 images from page 3\n",
      "Downloading 21 of 60 images from page 3\n",
      "Downloading 22 of 60 images from page 3\n",
      "Downloading 23 of 60 images from page 3\n",
      "Downloading 24 of 60 images from page 3\n",
      "Downloading 25 of 60 images from page 3\n",
      "Downloading 26 of 60 images from page 3\n",
      "Downloading 27 of 60 images from page 3\n",
      "Downloading 28 of 60 images from page 3\n",
      "Downloading 29 of 60 images from page 3\n",
      "Downloading 30 of 60 images from page 3\n",
      "Downloading 31 of 60 images from page 3\n",
      "Downloading 32 of 60 images from page 3\n",
      "Downloading 33 of 60 images from page 3\n",
      "Downloading 34 of 60 images from page 3\n",
      "Downloading 35 of 60 images from page 3\n",
      "Downloading 36 of 60 images from page 3\n",
      "Downloading 37 of 60 images from page 3\n",
      "Downloading 38 of 60 images from page 3\n",
      "Downloading 39 of 60 images from page 3\n",
      "Downloading 40 of 60 images from page 3\n",
      "Downloading 41 of 60 images from page 3\n",
      "Downloading 42 of 60 images from page 3\n",
      "Downloading 43 of 60 images from page 3\n",
      "Downloading 44 of 60 images from page 3\n",
      "Downloading 45 of 60 images from page 3\n",
      "Downloading 46 of 60 images from page 3\n",
      "Downloading 47 of 60 images from page 3\n",
      "Downloading 48 of 60 images from page 3\n",
      "Downloading 49 of 60 images from page 3\n",
      "Downloading 50 of 60 images from page 3\n",
      "Downloading 51 of 60 images from page 3\n",
      "Downloading 52 of 60 images from page 3\n",
      "Downloading 53 of 60 images from page 3\n",
      "Downloading 54 of 60 images from page 3\n",
      "Downloading 55 of 60 images from page 3\n",
      "Downloading 56 of 60 images from page 3\n",
      "Downloading 57 of 60 images from page 3\n",
      "Downloading 58 of 60 images from page 3\n",
      "Downloading 59 of 60 images from page 3\n",
      "Downloading 60 of 60 images from page 3\n"
     ]
    }
   ],
   "source": [
    "page=3\n",
    "for index, link in enumerate(urls):\n",
    "    print('Downloading {0} of {1} images from page 3'.format(index+1,len(urls)))\n",
    "    response=requests.get(link)\n",
    "    with open('Trousers (men)/img_{0}{1}.jpeg'.format(index,page),'wb') as file:\n",
    "        file.write(response.content)"
   ]
  },
  {
   "cell_type": "code",
   "execution_count": 47,
   "metadata": {},
   "outputs": [],
   "source": [
    "# moving to next page\n",
    "next_page=driver.find_element_by_xpath('//li[@class=\"a-last\"]//a').click()\n",
    "time.sleep(4)"
   ]
  },
  {
   "cell_type": "code",
   "execution_count": 48,
   "metadata": {},
   "outputs": [],
   "source": [
    "images = driver.find_elements_by_xpath(\"//div/img[@class='s-image']\")"
   ]
  },
  {
   "cell_type": "code",
   "execution_count": 49,
   "metadata": {},
   "outputs": [],
   "source": [
    "urls= []\n",
    "for image in images:\n",
    "    source= image.get_attribute('src')\n",
    "    urls.append(source)"
   ]
  },
  {
   "cell_type": "code",
   "execution_count": 50,
   "metadata": {},
   "outputs": [
    {
     "name": "stdout",
     "output_type": "stream",
     "text": [
      "Downloading 1 of 60 images from page 4\n",
      "Downloading 2 of 60 images from page 4\n",
      "Downloading 3 of 60 images from page 4\n",
      "Downloading 4 of 60 images from page 4\n",
      "Downloading 5 of 60 images from page 4\n",
      "Downloading 6 of 60 images from page 4\n",
      "Downloading 7 of 60 images from page 4\n",
      "Downloading 8 of 60 images from page 4\n",
      "Downloading 9 of 60 images from page 4\n",
      "Downloading 10 of 60 images from page 4\n",
      "Downloading 11 of 60 images from page 4\n",
      "Downloading 12 of 60 images from page 4\n",
      "Downloading 13 of 60 images from page 4\n",
      "Downloading 14 of 60 images from page 4\n",
      "Downloading 15 of 60 images from page 4\n",
      "Downloading 16 of 60 images from page 4\n",
      "Downloading 17 of 60 images from page 4\n",
      "Downloading 18 of 60 images from page 4\n",
      "Downloading 19 of 60 images from page 4\n",
      "Downloading 20 of 60 images from page 4\n",
      "Downloading 21 of 60 images from page 4\n",
      "Downloading 22 of 60 images from page 4\n",
      "Downloading 23 of 60 images from page 4\n",
      "Downloading 24 of 60 images from page 4\n",
      "Downloading 25 of 60 images from page 4\n",
      "Downloading 26 of 60 images from page 4\n",
      "Downloading 27 of 60 images from page 4\n",
      "Downloading 28 of 60 images from page 4\n",
      "Downloading 29 of 60 images from page 4\n",
      "Downloading 30 of 60 images from page 4\n",
      "Downloading 31 of 60 images from page 4\n",
      "Downloading 32 of 60 images from page 4\n",
      "Downloading 33 of 60 images from page 4\n",
      "Downloading 34 of 60 images from page 4\n",
      "Downloading 35 of 60 images from page 4\n",
      "Downloading 36 of 60 images from page 4\n",
      "Downloading 37 of 60 images from page 4\n",
      "Downloading 38 of 60 images from page 4\n",
      "Downloading 39 of 60 images from page 4\n",
      "Downloading 40 of 60 images from page 4\n",
      "Downloading 41 of 60 images from page 4\n",
      "Downloading 42 of 60 images from page 4\n",
      "Downloading 43 of 60 images from page 4\n",
      "Downloading 44 of 60 images from page 4\n",
      "Downloading 45 of 60 images from page 4\n",
      "Downloading 46 of 60 images from page 4\n",
      "Downloading 47 of 60 images from page 4\n",
      "Downloading 48 of 60 images from page 4\n",
      "Downloading 49 of 60 images from page 4\n",
      "Downloading 50 of 60 images from page 4\n",
      "Downloading 51 of 60 images from page 4\n",
      "Downloading 52 of 60 images from page 4\n",
      "Downloading 53 of 60 images from page 4\n",
      "Downloading 54 of 60 images from page 4\n",
      "Downloading 55 of 60 images from page 4\n",
      "Downloading 56 of 60 images from page 4\n",
      "Downloading 57 of 60 images from page 4\n",
      "Downloading 58 of 60 images from page 4\n",
      "Downloading 59 of 60 images from page 4\n",
      "Downloading 60 of 60 images from page 4\n"
     ]
    }
   ],
   "source": [
    "page=4\n",
    "for index, link in enumerate(urls):\n",
    "    print('Downloading {0} of {1} images from page 4'.format(index+1,len(urls)))\n",
    "    response=requests.get(link)\n",
    "    with open('Trousers (men)/img_{0}{1}.jpeg'.format(index,page),'wb') as file:\n",
    "        file.write(response.content)"
   ]
  },
  {
   "cell_type": "code",
   "execution_count": null,
   "metadata": {},
   "outputs": [],
   "source": []
  },
  {
   "cell_type": "markdown",
   "metadata": {},
   "source": [
    "## To scrape images of Men Jeans"
   ]
  },
  {
   "cell_type": "code",
   "execution_count": 51,
   "metadata": {},
   "outputs": [],
   "source": [
    "# send get request to the webpage server to get the source code of the page\n",
    "url= driver.get('https://www.amazon.in/s?k=jeans&ref=nb_sb_noss_2')\n",
    "time.sleep(4)"
   ]
  },
  {
   "cell_type": "code",
   "execution_count": 52,
   "metadata": {},
   "outputs": [],
   "source": [
    "# directory to store images of Trousers (men)\n",
    "def make_directory(dirname):\n",
    "    current_path=os.getcwd()\n",
    "    path=os.path.join(current_path,dirname)\n",
    "    if not os.path.exists(path):\n",
    "        os.makedirs(path)"
   ]
  },
  {
   "cell_type": "code",
   "execution_count": 53,
   "metadata": {},
   "outputs": [],
   "source": [
    "make_directory('Jeans (men)')"
   ]
  },
  {
   "cell_type": "code",
   "execution_count": 54,
   "metadata": {},
   "outputs": [],
   "source": [
    "images = driver.find_elements_by_xpath(\"//img[@class='s-image']\")"
   ]
  },
  {
   "cell_type": "code",
   "execution_count": 55,
   "metadata": {},
   "outputs": [
    {
     "data": {
      "text/plain": [
       "78"
      ]
     },
     "execution_count": 55,
     "metadata": {},
     "output_type": "execute_result"
    }
   ],
   "source": [
    "len(images)"
   ]
  },
  {
   "cell_type": "code",
   "execution_count": 56,
   "metadata": {},
   "outputs": [],
   "source": [
    "urls=[]\n",
    "for image in images:\n",
    "    source=image.get_attribute('src')\n",
    "    urls.append(source)"
   ]
  },
  {
   "cell_type": "code",
   "execution_count": 57,
   "metadata": {},
   "outputs": [
    {
     "data": {
      "text/plain": [
       "78"
      ]
     },
     "execution_count": 57,
     "metadata": {},
     "output_type": "execute_result"
    }
   ],
   "source": [
    "len(urls)"
   ]
  },
  {
   "cell_type": "code",
   "execution_count": 58,
   "metadata": {},
   "outputs": [
    {
     "name": "stdout",
     "output_type": "stream",
     "text": [
      "Downloading 1 of 78 images from page 1\n",
      "Downloading 2 of 78 images from page 1\n",
      "Downloading 3 of 78 images from page 1\n",
      "Downloading 4 of 78 images from page 1\n",
      "Downloading 5 of 78 images from page 1\n",
      "Downloading 6 of 78 images from page 1\n",
      "Downloading 7 of 78 images from page 1\n",
      "Downloading 8 of 78 images from page 1\n",
      "Downloading 9 of 78 images from page 1\n",
      "Downloading 10 of 78 images from page 1\n",
      "Downloading 11 of 78 images from page 1\n",
      "Downloading 12 of 78 images from page 1\n",
      "Downloading 13 of 78 images from page 1\n",
      "Downloading 14 of 78 images from page 1\n",
      "Downloading 15 of 78 images from page 1\n",
      "Downloading 16 of 78 images from page 1\n",
      "Downloading 17 of 78 images from page 1\n",
      "Downloading 18 of 78 images from page 1\n",
      "Downloading 19 of 78 images from page 1\n",
      "Downloading 20 of 78 images from page 1\n",
      "Downloading 21 of 78 images from page 1\n",
      "Downloading 22 of 78 images from page 1\n",
      "Downloading 23 of 78 images from page 1\n",
      "Downloading 24 of 78 images from page 1\n",
      "Downloading 25 of 78 images from page 1\n",
      "Downloading 26 of 78 images from page 1\n",
      "Downloading 27 of 78 images from page 1\n",
      "Downloading 28 of 78 images from page 1\n",
      "Downloading 29 of 78 images from page 1\n",
      "Downloading 30 of 78 images from page 1\n",
      "Downloading 31 of 78 images from page 1\n",
      "Downloading 32 of 78 images from page 1\n",
      "Downloading 33 of 78 images from page 1\n",
      "Downloading 34 of 78 images from page 1\n",
      "Downloading 35 of 78 images from page 1\n",
      "Downloading 36 of 78 images from page 1\n",
      "Downloading 37 of 78 images from page 1\n",
      "Downloading 38 of 78 images from page 1\n",
      "Downloading 39 of 78 images from page 1\n",
      "Downloading 40 of 78 images from page 1\n",
      "Downloading 41 of 78 images from page 1\n",
      "Downloading 42 of 78 images from page 1\n",
      "Downloading 43 of 78 images from page 1\n",
      "Downloading 44 of 78 images from page 1\n",
      "Downloading 45 of 78 images from page 1\n",
      "Downloading 46 of 78 images from page 1\n",
      "Downloading 47 of 78 images from page 1\n",
      "Downloading 48 of 78 images from page 1\n",
      "Downloading 49 of 78 images from page 1\n",
      "Downloading 50 of 78 images from page 1\n",
      "Downloading 51 of 78 images from page 1\n",
      "Downloading 52 of 78 images from page 1\n",
      "Downloading 53 of 78 images from page 1\n",
      "Downloading 54 of 78 images from page 1\n",
      "Downloading 55 of 78 images from page 1\n",
      "Downloading 56 of 78 images from page 1\n",
      "Downloading 57 of 78 images from page 1\n",
      "Downloading 58 of 78 images from page 1\n",
      "Downloading 59 of 78 images from page 1\n",
      "Downloading 60 of 78 images from page 1\n",
      "Downloading 61 of 78 images from page 1\n",
      "Downloading 62 of 78 images from page 1\n",
      "Downloading 63 of 78 images from page 1\n",
      "Downloading 64 of 78 images from page 1\n",
      "Downloading 65 of 78 images from page 1\n",
      "Downloading 66 of 78 images from page 1\n",
      "Downloading 67 of 78 images from page 1\n",
      "Downloading 68 of 78 images from page 1\n",
      "Downloading 69 of 78 images from page 1\n",
      "Downloading 70 of 78 images from page 1\n",
      "Downloading 71 of 78 images from page 1\n",
      "Downloading 72 of 78 images from page 1\n",
      "Downloading 73 of 78 images from page 1\n",
      "Downloading 74 of 78 images from page 1\n",
      "Downloading 75 of 78 images from page 1\n",
      "Downloading 76 of 78 images from page 1\n",
      "Downloading 77 of 78 images from page 1\n",
      "Downloading 78 of 78 images from page 1\n"
     ]
    }
   ],
   "source": [
    "page=1\n",
    "for index, link in enumerate(urls):\n",
    "    print('Downloading {0} of {1} images from page 1'.format(index+1,len(urls)))\n",
    "    response=requests.get(link)\n",
    "    with open('Jeans (men)/img_{0}{1}.jpeg'.format(index,page),'wb') as file:\n",
    "        file.write(response.content)"
   ]
  },
  {
   "cell_type": "code",
   "execution_count": 59,
   "metadata": {},
   "outputs": [],
   "source": [
    "# moving to next page\n",
    "next_page=driver.find_element_by_xpath('//li[@class=\"a-last\"]//a').click()\n",
    "time.sleep(4)"
   ]
  },
  {
   "cell_type": "code",
   "execution_count": 60,
   "metadata": {},
   "outputs": [],
   "source": [
    "images = driver.find_elements_by_xpath(\"//div/img[@class='s-image']\")"
   ]
  },
  {
   "cell_type": "code",
   "execution_count": 61,
   "metadata": {},
   "outputs": [],
   "source": [
    "urls= []\n",
    "for image in images:\n",
    "    source= image.get_attribute('src')\n",
    "    urls.append(source)"
   ]
  },
  {
   "cell_type": "code",
   "execution_count": 62,
   "metadata": {},
   "outputs": [
    {
     "name": "stdout",
     "output_type": "stream",
     "text": [
      "Downloading 1 of 48 images from page 2\n",
      "Downloading 2 of 48 images from page 2\n",
      "Downloading 3 of 48 images from page 2\n",
      "Downloading 4 of 48 images from page 2\n",
      "Downloading 5 of 48 images from page 2\n",
      "Downloading 6 of 48 images from page 2\n",
      "Downloading 7 of 48 images from page 2\n",
      "Downloading 8 of 48 images from page 2\n",
      "Downloading 9 of 48 images from page 2\n",
      "Downloading 10 of 48 images from page 2\n",
      "Downloading 11 of 48 images from page 2\n",
      "Downloading 12 of 48 images from page 2\n",
      "Downloading 13 of 48 images from page 2\n",
      "Downloading 14 of 48 images from page 2\n",
      "Downloading 15 of 48 images from page 2\n",
      "Downloading 16 of 48 images from page 2\n",
      "Downloading 17 of 48 images from page 2\n",
      "Downloading 18 of 48 images from page 2\n",
      "Downloading 19 of 48 images from page 2\n",
      "Downloading 20 of 48 images from page 2\n",
      "Downloading 21 of 48 images from page 2\n",
      "Downloading 22 of 48 images from page 2\n",
      "Downloading 23 of 48 images from page 2\n",
      "Downloading 24 of 48 images from page 2\n",
      "Downloading 25 of 48 images from page 2\n",
      "Downloading 26 of 48 images from page 2\n",
      "Downloading 27 of 48 images from page 2\n",
      "Downloading 28 of 48 images from page 2\n",
      "Downloading 29 of 48 images from page 2\n",
      "Downloading 30 of 48 images from page 2\n",
      "Downloading 31 of 48 images from page 2\n",
      "Downloading 32 of 48 images from page 2\n",
      "Downloading 33 of 48 images from page 2\n",
      "Downloading 34 of 48 images from page 2\n",
      "Downloading 35 of 48 images from page 2\n",
      "Downloading 36 of 48 images from page 2\n",
      "Downloading 37 of 48 images from page 2\n",
      "Downloading 38 of 48 images from page 2\n",
      "Downloading 39 of 48 images from page 2\n",
      "Downloading 40 of 48 images from page 2\n",
      "Downloading 41 of 48 images from page 2\n",
      "Downloading 42 of 48 images from page 2\n",
      "Downloading 43 of 48 images from page 2\n",
      "Downloading 44 of 48 images from page 2\n",
      "Downloading 45 of 48 images from page 2\n",
      "Downloading 46 of 48 images from page 2\n",
      "Downloading 47 of 48 images from page 2\n",
      "Downloading 48 of 48 images from page 2\n"
     ]
    }
   ],
   "source": [
    "page=2\n",
    "for index, link in enumerate(urls):\n",
    "    print('Downloading {0} of {1} images from page 2'.format(index+1,len(urls)))\n",
    "    response=requests.get(link)\n",
    "    with open('Jeans (men)/img_{0}{1}.jpeg'.format(index,page),'wb') as file:\n",
    "        file.write(response.content)"
   ]
  },
  {
   "cell_type": "code",
   "execution_count": 63,
   "metadata": {},
   "outputs": [],
   "source": [
    "# moving to next page\n",
    "next_page=driver.find_element_by_xpath('//li[@class=\"a-last\"]//a').click()\n",
    "time.sleep(4)"
   ]
  },
  {
   "cell_type": "code",
   "execution_count": 64,
   "metadata": {},
   "outputs": [],
   "source": [
    "images = driver.find_elements_by_xpath(\"//div/img[@class='s-image']\")"
   ]
  },
  {
   "cell_type": "code",
   "execution_count": 65,
   "metadata": {},
   "outputs": [],
   "source": [
    "urls= []\n",
    "for image in images:\n",
    "    source= image.get_attribute('src')\n",
    "    urls.append(source)"
   ]
  },
  {
   "cell_type": "code",
   "execution_count": 66,
   "metadata": {},
   "outputs": [
    {
     "name": "stdout",
     "output_type": "stream",
     "text": [
      "Downloading 1 of 60 images from page 3\n",
      "Downloading 2 of 60 images from page 3\n",
      "Downloading 3 of 60 images from page 3\n",
      "Downloading 4 of 60 images from page 3\n",
      "Downloading 5 of 60 images from page 3\n",
      "Downloading 6 of 60 images from page 3\n",
      "Downloading 7 of 60 images from page 3\n",
      "Downloading 8 of 60 images from page 3\n",
      "Downloading 9 of 60 images from page 3\n",
      "Downloading 10 of 60 images from page 3\n",
      "Downloading 11 of 60 images from page 3\n",
      "Downloading 12 of 60 images from page 3\n",
      "Downloading 13 of 60 images from page 3\n",
      "Downloading 14 of 60 images from page 3\n",
      "Downloading 15 of 60 images from page 3\n",
      "Downloading 16 of 60 images from page 3\n",
      "Downloading 17 of 60 images from page 3\n",
      "Downloading 18 of 60 images from page 3\n",
      "Downloading 19 of 60 images from page 3\n",
      "Downloading 20 of 60 images from page 3\n",
      "Downloading 21 of 60 images from page 3\n",
      "Downloading 22 of 60 images from page 3\n",
      "Downloading 23 of 60 images from page 3\n",
      "Downloading 24 of 60 images from page 3\n",
      "Downloading 25 of 60 images from page 3\n",
      "Downloading 26 of 60 images from page 3\n",
      "Downloading 27 of 60 images from page 3\n",
      "Downloading 28 of 60 images from page 3\n",
      "Downloading 29 of 60 images from page 3\n",
      "Downloading 30 of 60 images from page 3\n",
      "Downloading 31 of 60 images from page 3\n",
      "Downloading 32 of 60 images from page 3\n",
      "Downloading 33 of 60 images from page 3\n",
      "Downloading 34 of 60 images from page 3\n",
      "Downloading 35 of 60 images from page 3\n",
      "Downloading 36 of 60 images from page 3\n",
      "Downloading 37 of 60 images from page 3\n",
      "Downloading 38 of 60 images from page 3\n",
      "Downloading 39 of 60 images from page 3\n",
      "Downloading 40 of 60 images from page 3\n",
      "Downloading 41 of 60 images from page 3\n",
      "Downloading 42 of 60 images from page 3\n",
      "Downloading 43 of 60 images from page 3\n",
      "Downloading 44 of 60 images from page 3\n",
      "Downloading 45 of 60 images from page 3\n",
      "Downloading 46 of 60 images from page 3\n",
      "Downloading 47 of 60 images from page 3\n",
      "Downloading 48 of 60 images from page 3\n",
      "Downloading 49 of 60 images from page 3\n",
      "Downloading 50 of 60 images from page 3\n",
      "Downloading 51 of 60 images from page 3\n",
      "Downloading 52 of 60 images from page 3\n",
      "Downloading 53 of 60 images from page 3\n",
      "Downloading 54 of 60 images from page 3\n",
      "Downloading 55 of 60 images from page 3\n",
      "Downloading 56 of 60 images from page 3\n",
      "Downloading 57 of 60 images from page 3\n",
      "Downloading 58 of 60 images from page 3\n",
      "Downloading 59 of 60 images from page 3\n",
      "Downloading 60 of 60 images from page 3\n"
     ]
    }
   ],
   "source": [
    "page=3\n",
    "for index, link in enumerate(urls):\n",
    "    print('Downloading {0} of {1} images from page 3'.format(index+1,len(urls)))\n",
    "    response=requests.get(link)\n",
    "    with open('Jeans (men)/img_{0}{1}.jpeg'.format(index,page),'wb') as file:\n",
    "        file.write(response.content)"
   ]
  },
  {
   "cell_type": "code",
   "execution_count": 67,
   "metadata": {},
   "outputs": [],
   "source": [
    "# moving to next page\n",
    "next_page=driver.find_element_by_xpath('//li[@class=\"a-last\"]//a').click()\n",
    "time.sleep(4)"
   ]
  },
  {
   "cell_type": "code",
   "execution_count": 68,
   "metadata": {},
   "outputs": [],
   "source": [
    "images = driver.find_elements_by_xpath(\"//div/img[@class='s-image']\")"
   ]
  },
  {
   "cell_type": "code",
   "execution_count": 69,
   "metadata": {},
   "outputs": [],
   "source": [
    "urls= []\n",
    "for image in images:\n",
    "    source= image.get_attribute('src')\n",
    "    urls.append(source)"
   ]
  },
  {
   "cell_type": "code",
   "execution_count": 70,
   "metadata": {},
   "outputs": [
    {
     "name": "stdout",
     "output_type": "stream",
     "text": [
      "Downloading 1 of 60 images from page 4\n",
      "Downloading 2 of 60 images from page 4\n",
      "Downloading 3 of 60 images from page 4\n",
      "Downloading 4 of 60 images from page 4\n",
      "Downloading 5 of 60 images from page 4\n",
      "Downloading 6 of 60 images from page 4\n",
      "Downloading 7 of 60 images from page 4\n",
      "Downloading 8 of 60 images from page 4\n",
      "Downloading 9 of 60 images from page 4\n",
      "Downloading 10 of 60 images from page 4\n",
      "Downloading 11 of 60 images from page 4\n",
      "Downloading 12 of 60 images from page 4\n",
      "Downloading 13 of 60 images from page 4\n",
      "Downloading 14 of 60 images from page 4\n",
      "Downloading 15 of 60 images from page 4\n",
      "Downloading 16 of 60 images from page 4\n",
      "Downloading 17 of 60 images from page 4\n",
      "Downloading 18 of 60 images from page 4\n",
      "Downloading 19 of 60 images from page 4\n",
      "Downloading 20 of 60 images from page 4\n",
      "Downloading 21 of 60 images from page 4\n",
      "Downloading 22 of 60 images from page 4\n",
      "Downloading 23 of 60 images from page 4\n",
      "Downloading 24 of 60 images from page 4\n",
      "Downloading 25 of 60 images from page 4\n",
      "Downloading 26 of 60 images from page 4\n",
      "Downloading 27 of 60 images from page 4\n",
      "Downloading 28 of 60 images from page 4\n",
      "Downloading 29 of 60 images from page 4\n",
      "Downloading 30 of 60 images from page 4\n",
      "Downloading 31 of 60 images from page 4\n",
      "Downloading 32 of 60 images from page 4\n",
      "Downloading 33 of 60 images from page 4\n",
      "Downloading 34 of 60 images from page 4\n",
      "Downloading 35 of 60 images from page 4\n",
      "Downloading 36 of 60 images from page 4\n",
      "Downloading 37 of 60 images from page 4\n",
      "Downloading 38 of 60 images from page 4\n",
      "Downloading 39 of 60 images from page 4\n",
      "Downloading 40 of 60 images from page 4\n",
      "Downloading 41 of 60 images from page 4\n",
      "Downloading 42 of 60 images from page 4\n",
      "Downloading 43 of 60 images from page 4\n",
      "Downloading 44 of 60 images from page 4\n",
      "Downloading 45 of 60 images from page 4\n",
      "Downloading 46 of 60 images from page 4\n",
      "Downloading 47 of 60 images from page 4\n",
      "Downloading 48 of 60 images from page 4\n",
      "Downloading 49 of 60 images from page 4\n",
      "Downloading 50 of 60 images from page 4\n",
      "Downloading 51 of 60 images from page 4\n",
      "Downloading 52 of 60 images from page 4\n",
      "Downloading 53 of 60 images from page 4\n",
      "Downloading 54 of 60 images from page 4\n",
      "Downloading 55 of 60 images from page 4\n",
      "Downloading 56 of 60 images from page 4\n",
      "Downloading 57 of 60 images from page 4\n",
      "Downloading 58 of 60 images from page 4\n",
      "Downloading 59 of 60 images from page 4\n",
      "Downloading 60 of 60 images from page 4\n"
     ]
    }
   ],
   "source": [
    "page=4\n",
    "for index, link in enumerate(urls):\n",
    "    print('Downloading {0} of {1} images from page 4'.format(index+1,len(urls)))\n",
    "    response=requests.get(link)\n",
    "    with open('Jeans (men)/img_{0}{1}.jpeg'.format(index,page),'wb') as file:\n",
    "        file.write(response.content)"
   ]
  },
  {
   "cell_type": "code",
   "execution_count": 71,
   "metadata": {},
   "outputs": [
    {
     "ename": "NameError",
     "evalue": "name 'sdfsd' is not defined",
     "output_type": "error",
     "traceback": [
      "\u001b[1;31m---------------------------------------------------------------------------\u001b[0m",
      "\u001b[1;31mNameError\u001b[0m                                 Traceback (most recent call last)",
      "\u001b[1;32m<ipython-input-71-4f760f9e67c6>\u001b[0m in \u001b[0;36m<module>\u001b[1;34m\u001b[0m\n\u001b[1;32m----> 1\u001b[1;33m \u001b[0msdfsd\u001b[0m\u001b[1;33m\u001b[0m\u001b[1;33m\u001b[0m\u001b[0m\n\u001b[0m",
      "\u001b[1;31mNameError\u001b[0m: name 'sdfsd' is not defined"
     ]
    }
   ],
   "source": [
    "sdfsd"
   ]
  },
  {
   "cell_type": "code",
   "execution_count": null,
   "metadata": {},
   "outputs": [],
   "source": [
    "## For test data, scraping page 1 images from each category"
   ]
  },
  {
   "cell_type": "code",
   "execution_count": 72,
   "metadata": {},
   "outputs": [],
   "source": [
    "url=\"https://www.amazon.in/s?k=sarees&page=5&qid=1638106215&ref=sr_pg_5\""
   ]
  },
  {
   "cell_type": "code",
   "execution_count": 73,
   "metadata": {},
   "outputs": [],
   "source": [
    "# send get request to the webpage server to get the source code of the page\n",
    "driver.get(url)\n",
    "time.sleep(4)"
   ]
  },
  {
   "cell_type": "code",
   "execution_count": 74,
   "metadata": {},
   "outputs": [],
   "source": [
    "# Maximize current window\n",
    "driver.maximize_window()"
   ]
  },
  {
   "cell_type": "code",
   "execution_count": 75,
   "metadata": {},
   "outputs": [],
   "source": [
    "# directory to store images of Sarees\n",
    "def make_directory(dirname):\n",
    "    current_path= os.getcwd()\n",
    "    path=os.path.join(current_path,dirname)\n",
    "    if not os.path.exists(path):\n",
    "        os.makedirs(path)"
   ]
  },
  {
   "cell_type": "code",
   "execution_count": 76,
   "metadata": {},
   "outputs": [],
   "source": [
    "make_directory('Sarees')"
   ]
  },
  {
   "cell_type": "code",
   "execution_count": null,
   "metadata": {},
   "outputs": [],
   "source": []
  },
  {
   "cell_type": "code",
   "execution_count": 77,
   "metadata": {},
   "outputs": [],
   "source": [
    "images=driver.find_elements_by_xpath(\"//div/img[@class='s-image']\")\n",
    "time.sleep(2)"
   ]
  },
  {
   "cell_type": "code",
   "execution_count": 78,
   "metadata": {},
   "outputs": [
    {
     "data": {
      "text/plain": [
       "49"
      ]
     },
     "execution_count": 78,
     "metadata": {},
     "output_type": "execute_result"
    }
   ],
   "source": [
    "len(images)"
   ]
  },
  {
   "cell_type": "code",
   "execution_count": 79,
   "metadata": {},
   "outputs": [],
   "source": [
    "urls= []\n",
    "for image in images:\n",
    "    source= image.get_attribute('src')\n",
    "    urls.append(source)"
   ]
  },
  {
   "cell_type": "code",
   "execution_count": 80,
   "metadata": {},
   "outputs": [
    {
     "data": {
      "text/plain": [
       "49"
      ]
     },
     "execution_count": 80,
     "metadata": {},
     "output_type": "execute_result"
    }
   ],
   "source": [
    "len(urls)"
   ]
  },
  {
   "cell_type": "code",
   "execution_count": 82,
   "metadata": {},
   "outputs": [
    {
     "name": "stdout",
     "output_type": "stream",
     "text": [
      "Downloading 1 of 49 images from page 1\n",
      "Downloading 2 of 49 images from page 1\n",
      "Downloading 3 of 49 images from page 1\n",
      "Downloading 4 of 49 images from page 1\n",
      "Downloading 5 of 49 images from page 1\n",
      "Downloading 6 of 49 images from page 1\n",
      "Downloading 7 of 49 images from page 1\n",
      "Downloading 8 of 49 images from page 1\n",
      "Downloading 9 of 49 images from page 1\n",
      "Downloading 10 of 49 images from page 1\n",
      "Downloading 11 of 49 images from page 1\n",
      "Downloading 12 of 49 images from page 1\n",
      "Downloading 13 of 49 images from page 1\n",
      "Downloading 14 of 49 images from page 1\n",
      "Downloading 15 of 49 images from page 1\n",
      "Downloading 16 of 49 images from page 1\n",
      "Downloading 17 of 49 images from page 1\n",
      "Downloading 18 of 49 images from page 1\n",
      "Downloading 19 of 49 images from page 1\n",
      "Downloading 20 of 49 images from page 1\n",
      "Downloading 21 of 49 images from page 1\n",
      "Downloading 22 of 49 images from page 1\n",
      "Downloading 23 of 49 images from page 1\n",
      "Downloading 24 of 49 images from page 1\n",
      "Downloading 25 of 49 images from page 1\n",
      "Downloading 26 of 49 images from page 1\n",
      "Downloading 27 of 49 images from page 1\n",
      "Downloading 28 of 49 images from page 1\n",
      "Downloading 29 of 49 images from page 1\n",
      "Downloading 30 of 49 images from page 1\n",
      "Downloading 31 of 49 images from page 1\n",
      "Downloading 32 of 49 images from page 1\n",
      "Downloading 33 of 49 images from page 1\n",
      "Downloading 34 of 49 images from page 1\n",
      "Downloading 35 of 49 images from page 1\n",
      "Downloading 36 of 49 images from page 1\n",
      "Downloading 37 of 49 images from page 1\n",
      "Downloading 38 of 49 images from page 1\n",
      "Downloading 39 of 49 images from page 1\n",
      "Downloading 40 of 49 images from page 1\n",
      "Downloading 41 of 49 images from page 1\n",
      "Downloading 42 of 49 images from page 1\n",
      "Downloading 43 of 49 images from page 1\n",
      "Downloading 44 of 49 images from page 1\n",
      "Downloading 45 of 49 images from page 1\n",
      "Downloading 46 of 49 images from page 1\n",
      "Downloading 47 of 49 images from page 1\n",
      "Downloading 48 of 49 images from page 1\n",
      "Downloading 49 of 49 images from page 1\n"
     ]
    }
   ],
   "source": [
    "page=1\n",
    "for index, link in enumerate(urls):\n",
    "    print('Downloading {0} of {1} images from page 1'.format(index+1,len(urls)))\n",
    "    response=requests.get(link)\n",
    "    with open('Sarees/img_{0}{1}.jpeg'.format(index,page),'wb') as file:\n",
    "        file.write(response.content)"
   ]
  },
  {
   "cell_type": "code",
   "execution_count": null,
   "metadata": {},
   "outputs": [],
   "source": []
  },
  {
   "cell_type": "code",
   "execution_count": 83,
   "metadata": {},
   "outputs": [],
   "source": [
    "url=\"https://www.amazon.in/s?k=trousers&page=5&qid=1638106495&ref=sr_pg_5\""
   ]
  },
  {
   "cell_type": "code",
   "execution_count": 84,
   "metadata": {},
   "outputs": [],
   "source": [
    "# send get request to the webpage server to get the source code of the page\n",
    "driver.get(url)\n",
    "time.sleep(4)"
   ]
  },
  {
   "cell_type": "code",
   "execution_count": 85,
   "metadata": {},
   "outputs": [],
   "source": [
    "# directory to store images of Sarees\n",
    "def make_directory(dirname):\n",
    "    current_path= os.getcwd()\n",
    "    path=os.path.join(current_path,dirname)\n",
    "    if not os.path.exists(path):\n",
    "        os.makedirs(path)"
   ]
  },
  {
   "cell_type": "code",
   "execution_count": 86,
   "metadata": {},
   "outputs": [],
   "source": [
    "make_directory('Trousers')"
   ]
  },
  {
   "cell_type": "code",
   "execution_count": 87,
   "metadata": {},
   "outputs": [],
   "source": [
    "images=driver.find_elements_by_xpath(\"//div/img[@class='s-image']\")\n",
    "time.sleep(2)"
   ]
  },
  {
   "cell_type": "code",
   "execution_count": 88,
   "metadata": {},
   "outputs": [
    {
     "data": {
      "text/plain": [
       "48"
      ]
     },
     "execution_count": 88,
     "metadata": {},
     "output_type": "execute_result"
    }
   ],
   "source": [
    "len(images)"
   ]
  },
  {
   "cell_type": "code",
   "execution_count": 89,
   "metadata": {},
   "outputs": [],
   "source": [
    "urls= []\n",
    "for image in images:\n",
    "    source= image.get_attribute('src')\n",
    "    urls.append(source)"
   ]
  },
  {
   "cell_type": "code",
   "execution_count": 90,
   "metadata": {},
   "outputs": [
    {
     "data": {
      "text/plain": [
       "48"
      ]
     },
     "execution_count": 90,
     "metadata": {},
     "output_type": "execute_result"
    }
   ],
   "source": [
    "len(urls)"
   ]
  },
  {
   "cell_type": "code",
   "execution_count": 91,
   "metadata": {},
   "outputs": [
    {
     "name": "stdout",
     "output_type": "stream",
     "text": [
      "Downloading 1 of 48 images from page 1\n",
      "Downloading 2 of 48 images from page 1\n",
      "Downloading 3 of 48 images from page 1\n",
      "Downloading 4 of 48 images from page 1\n",
      "Downloading 5 of 48 images from page 1\n",
      "Downloading 6 of 48 images from page 1\n",
      "Downloading 7 of 48 images from page 1\n",
      "Downloading 8 of 48 images from page 1\n",
      "Downloading 9 of 48 images from page 1\n",
      "Downloading 10 of 48 images from page 1\n",
      "Downloading 11 of 48 images from page 1\n",
      "Downloading 12 of 48 images from page 1\n",
      "Downloading 13 of 48 images from page 1\n",
      "Downloading 14 of 48 images from page 1\n",
      "Downloading 15 of 48 images from page 1\n",
      "Downloading 16 of 48 images from page 1\n",
      "Downloading 17 of 48 images from page 1\n",
      "Downloading 18 of 48 images from page 1\n",
      "Downloading 19 of 48 images from page 1\n",
      "Downloading 20 of 48 images from page 1\n",
      "Downloading 21 of 48 images from page 1\n",
      "Downloading 22 of 48 images from page 1\n",
      "Downloading 23 of 48 images from page 1\n",
      "Downloading 24 of 48 images from page 1\n",
      "Downloading 25 of 48 images from page 1\n",
      "Downloading 26 of 48 images from page 1\n",
      "Downloading 27 of 48 images from page 1\n",
      "Downloading 28 of 48 images from page 1\n",
      "Downloading 29 of 48 images from page 1\n",
      "Downloading 30 of 48 images from page 1\n",
      "Downloading 31 of 48 images from page 1\n",
      "Downloading 32 of 48 images from page 1\n",
      "Downloading 33 of 48 images from page 1\n",
      "Downloading 34 of 48 images from page 1\n",
      "Downloading 35 of 48 images from page 1\n",
      "Downloading 36 of 48 images from page 1\n",
      "Downloading 37 of 48 images from page 1\n",
      "Downloading 38 of 48 images from page 1\n",
      "Downloading 39 of 48 images from page 1\n",
      "Downloading 40 of 48 images from page 1\n",
      "Downloading 41 of 48 images from page 1\n",
      "Downloading 42 of 48 images from page 1\n",
      "Downloading 43 of 48 images from page 1\n",
      "Downloading 44 of 48 images from page 1\n",
      "Downloading 45 of 48 images from page 1\n",
      "Downloading 46 of 48 images from page 1\n",
      "Downloading 47 of 48 images from page 1\n",
      "Downloading 48 of 48 images from page 1\n"
     ]
    }
   ],
   "source": [
    "page=1\n",
    "for index, link in enumerate(urls):\n",
    "    print('Downloading {0} of {1} images from page 1'.format(index+1,len(urls)))\n",
    "    response=requests.get(link)\n",
    "    with open('Trousers/img_{0}{1}.jpeg'.format(index,page),'wb') as file:\n",
    "        file.write(response.content)"
   ]
  },
  {
   "cell_type": "code",
   "execution_count": null,
   "metadata": {},
   "outputs": [],
   "source": []
  },
  {
   "cell_type": "code",
   "execution_count": 92,
   "metadata": {},
   "outputs": [],
   "source": [
    "url=\"https://www.amazon.in/s?k=jeans&page=5&qid=1638106758&ref=sr_pg_5\""
   ]
  },
  {
   "cell_type": "code",
   "execution_count": 93,
   "metadata": {},
   "outputs": [],
   "source": [
    "# send get request to the webpage server to get the source code of the page\n",
    "driver.get(url)\n",
    "time.sleep(4)"
   ]
  },
  {
   "cell_type": "code",
   "execution_count": 94,
   "metadata": {},
   "outputs": [],
   "source": [
    "# directory to store images of Sarees\n",
    "def make_directory(dirname):\n",
    "    current_path= os.getcwd()\n",
    "    path=os.path.join(current_path,dirname)\n",
    "    if not os.path.exists(path):\n",
    "        os.makedirs(path)"
   ]
  },
  {
   "cell_type": "code",
   "execution_count": 95,
   "metadata": {},
   "outputs": [],
   "source": [
    "make_directory('Jeans')"
   ]
  },
  {
   "cell_type": "code",
   "execution_count": 96,
   "metadata": {},
   "outputs": [],
   "source": [
    "images=driver.find_elements_by_xpath(\"//div/img[@class='s-image']\")\n",
    "time.sleep(2)"
   ]
  },
  {
   "cell_type": "code",
   "execution_count": 97,
   "metadata": {},
   "outputs": [
    {
     "data": {
      "text/plain": [
       "60"
      ]
     },
     "execution_count": 97,
     "metadata": {},
     "output_type": "execute_result"
    }
   ],
   "source": [
    "len(images)"
   ]
  },
  {
   "cell_type": "code",
   "execution_count": 98,
   "metadata": {},
   "outputs": [],
   "source": [
    "urls= []\n",
    "for image in images:\n",
    "    source= image.get_attribute('src')\n",
    "    urls.append(source)"
   ]
  },
  {
   "cell_type": "code",
   "execution_count": 99,
   "metadata": {},
   "outputs": [
    {
     "data": {
      "text/plain": [
       "60"
      ]
     },
     "execution_count": 99,
     "metadata": {},
     "output_type": "execute_result"
    }
   ],
   "source": [
    "len(urls)"
   ]
  },
  {
   "cell_type": "code",
   "execution_count": 100,
   "metadata": {},
   "outputs": [
    {
     "name": "stdout",
     "output_type": "stream",
     "text": [
      "Downloading 1 of 60 images from page 1\n",
      "Downloading 2 of 60 images from page 1\n",
      "Downloading 3 of 60 images from page 1\n",
      "Downloading 4 of 60 images from page 1\n",
      "Downloading 5 of 60 images from page 1\n",
      "Downloading 6 of 60 images from page 1\n",
      "Downloading 7 of 60 images from page 1\n",
      "Downloading 8 of 60 images from page 1\n",
      "Downloading 9 of 60 images from page 1\n",
      "Downloading 10 of 60 images from page 1\n",
      "Downloading 11 of 60 images from page 1\n",
      "Downloading 12 of 60 images from page 1\n",
      "Downloading 13 of 60 images from page 1\n",
      "Downloading 14 of 60 images from page 1\n",
      "Downloading 15 of 60 images from page 1\n",
      "Downloading 16 of 60 images from page 1\n",
      "Downloading 17 of 60 images from page 1\n",
      "Downloading 18 of 60 images from page 1\n",
      "Downloading 19 of 60 images from page 1\n",
      "Downloading 20 of 60 images from page 1\n",
      "Downloading 21 of 60 images from page 1\n",
      "Downloading 22 of 60 images from page 1\n",
      "Downloading 23 of 60 images from page 1\n",
      "Downloading 24 of 60 images from page 1\n",
      "Downloading 25 of 60 images from page 1\n",
      "Downloading 26 of 60 images from page 1\n",
      "Downloading 27 of 60 images from page 1\n",
      "Downloading 28 of 60 images from page 1\n",
      "Downloading 29 of 60 images from page 1\n",
      "Downloading 30 of 60 images from page 1\n",
      "Downloading 31 of 60 images from page 1\n",
      "Downloading 32 of 60 images from page 1\n",
      "Downloading 33 of 60 images from page 1\n",
      "Downloading 34 of 60 images from page 1\n",
      "Downloading 35 of 60 images from page 1\n",
      "Downloading 36 of 60 images from page 1\n",
      "Downloading 37 of 60 images from page 1\n",
      "Downloading 38 of 60 images from page 1\n",
      "Downloading 39 of 60 images from page 1\n",
      "Downloading 40 of 60 images from page 1\n",
      "Downloading 41 of 60 images from page 1\n",
      "Downloading 42 of 60 images from page 1\n",
      "Downloading 43 of 60 images from page 1\n",
      "Downloading 44 of 60 images from page 1\n",
      "Downloading 45 of 60 images from page 1\n",
      "Downloading 46 of 60 images from page 1\n",
      "Downloading 47 of 60 images from page 1\n",
      "Downloading 48 of 60 images from page 1\n",
      "Downloading 49 of 60 images from page 1\n",
      "Downloading 50 of 60 images from page 1\n",
      "Downloading 51 of 60 images from page 1\n",
      "Downloading 52 of 60 images from page 1\n",
      "Downloading 53 of 60 images from page 1\n",
      "Downloading 54 of 60 images from page 1\n",
      "Downloading 55 of 60 images from page 1\n",
      "Downloading 56 of 60 images from page 1\n",
      "Downloading 57 of 60 images from page 1\n",
      "Downloading 58 of 60 images from page 1\n",
      "Downloading 59 of 60 images from page 1\n",
      "Downloading 60 of 60 images from page 1\n"
     ]
    }
   ],
   "source": [
    "page=1\n",
    "for index, link in enumerate(urls):\n",
    "    print('Downloading {0} of {1} images from page 1'.format(index+1,len(urls)))\n",
    "    response=requests.get(link)\n",
    "    with open('Jeans/img_{0}{1}.jpeg'.format(index,page),'wb') as file:\n",
    "        file.write(response.content)"
   ]
  },
  {
   "cell_type": "code",
   "execution_count": 101,
   "metadata": {},
   "outputs": [],
   "source": [
    "driver.close()"
   ]
  },
  {
   "cell_type": "code",
   "execution_count": null,
   "metadata": {},
   "outputs": [],
   "source": []
  }
 ],
 "metadata": {
  "kernelspec": {
   "display_name": "Python 3",
   "language": "python",
   "name": "python3"
  },
  "language_info": {
   "codemirror_mode": {
    "name": "ipython",
    "version": 3
   },
   "file_extension": ".py",
   "mimetype": "text/x-python",
   "name": "python",
   "nbconvert_exporter": "python",
   "pygments_lexer": "ipython3",
   "version": "3.8.5"
  }
 },
 "nbformat": 4,
 "nbformat_minor": 4
}
